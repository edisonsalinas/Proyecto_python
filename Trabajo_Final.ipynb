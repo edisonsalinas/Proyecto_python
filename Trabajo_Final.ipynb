{
 "cells": [
  {
   "cell_type": "markdown",
   "metadata": {},
   "source": [
    "# Trabajo final Digital Transformation - Python\n",
    "\n",
    "Python es un lenguaje de programación. En los _notebooks_ previos, casi todo el trabajo que hemos realizado es prácticamente interactivo, aunque en un par de ocasiones nos hemos visto obligados a utilizar funciones o bucles.\n",
    "\n",
    "En este _notebook_ aprenderemos los rudimentos de la programación en Python, comenzando con tipos de datos y terminando con la definición de funciones simples."
   ]
  },
  {
   "cell_type": "markdown",
   "metadata": {},
   "source": [
    "# 1. Importamos los paquetes para empezar a trabajar"
   ]
  },
  {
   "cell_type": "code",
   "execution_count": 1,
   "metadata": {},
   "outputs": [],
   "source": [
    "import pandas as pd\n",
    "import re\n",
    "import numpy as np\n",
    "import datetime\n",
    "from datetime import datetime,date\n",
    "import matplotlib\n",
    "import matplotlib.pyplot as plt\n",
    "from matplotlib.ticker import FuncFormatter\n",
    "pd.options.display.float_format = '{:,.1f}'.format\n",
    "import matplotlib.dates as mdates\n",
    "%matplotlib inline\n",
    "import matplotlib.ticker as mtick\n",
    "from matplotlib.ticker import FuncFormatter\n",
    "pd.options.display.float_format = '{:,.1f}'.format"
   ]
  },
  {
   "cell_type": "markdown",
   "metadata": {},
   "source": [
    "# 2. Cargamos los archivos csv y los nombramos"
   ]
  },
  {
   "cell_type": "markdown",
   "metadata": {},
   "source": [
    "## 2.1. Cargamos las url de cada mes (Septiembre 2018 hasta Agosto 2019)"
   ]
  },
  {
   "cell_type": "code",
   "execution_count": 2,
   "metadata": {},
   "outputs": [],
   "source": [
    "path_web0918='https://datos.madrid.es/egob/catalogo/210104-214-multas-circulacion-detalle.csv'\n",
    "path_web1018='https://datos.madrid.es/egob/catalogo/210104-218-multas-circulacion-detalle.csv'\n",
    "path_web1118='https://datos.madrid.es/egob/catalogo/210104-222-multas-circulacion-detalle.csv'\n",
    "path_web1218='https://datos.madrid.es/egob/catalogo/210104-224-multas-circulacion-detalle.csv'\n",
    "path_web0119='https://datos.madrid.es/egob/catalogo/210104-226-multas-circulacion-detalle.csv'\n",
    "path_web0219='https://datos.madrid.es/egob/catalogo/210104-230-multas-circulacion-detalle.csv'\n",
    "path_web0319='https://datos.madrid.es/egob/catalogo/210104-234-multas-circulacion-detalle.csv'\n",
    "path_web0419='https://datos.madrid.es/egob/catalogo/210104-238-multas-circulacion-detalle.csv'\n",
    "path_web0519='https://datos.madrid.es/egob/catalogo/210104-242-multas-circulacion-detalle.csv'\n",
    "path_web0619='https://datos.madrid.es/egob/catalogo/210104-246-multas-circulacion-detalle.csv'\n",
    "path_web0719='https://datos.madrid.es/egob/catalogo/210104-252-multas-circulacion-detalle.csv'\n",
    "path_web0819='https://datos.madrid.es/egob/catalogo/210104-256-multas-circulacion-detalle.csv'"
   ]
  },
  {
   "cell_type": "markdown",
   "metadata": {},
   "source": [
    "## 2.2 Nombramos las cabeceras de las columnas de cada tabla"
   ]
  },
  {
   "cell_type": "code",
   "execution_count": 3,
   "metadata": {},
   "outputs": [],
   "source": [
    "nombre_columnas0918=['GRAVEDAD','DIRECCION','MES','ANIO','HORA','IMPORTE_MULTA',\n",
    "                     'DESCUENTO','PUNTOS','DENUNCIANTE','DESCRIPCION_INFRACCION',\n",
    "                     'VELOCIDAD_LIMITE','VELOCIDAD_CIRCULACION','COORDENADA_X','COORDENADA_Y']\n",
    "nombre_columnas1018=['GRAVEDAD','DIRECCION','MES','ANIO','HORA','IMPORTE_MULTA',\n",
    "                     'DESCUENTO','PUNTOS','DENUNCIANTE','DESCRIPCION_INFRACCION',\n",
    "                     'VELOCIDAD_LIMITE','VELOCIDAD_CIRCULACION','COORDENADA_X','COORDENADA_Y']\n",
    "nombre_columnas1118=['GRAVEDAD','DIRECCION','MES','ANIO','HORA','IMPORTE_MULTA',\n",
    "                     'DESCUENTO','PUNTOS','DENUNCIANTE','DESCRIPCION_INFRACCION',\n",
    "                     'VELOCIDAD_LIMITE','VELOCIDAD_CIRCULACION','COORDENADA_X','COORDENADA_Y']\n",
    "nombre_columnas1218=['GRAVEDAD','DIRECCION','MES','ANIO','HORA','IMPORTE_MULTA',\n",
    "                     'DESCUENTO','PUNTOS','DENUNCIANTE','DESCRIPCION_INFRACCION',\n",
    "                     'VELOCIDAD_LIMITE','VELOCIDAD_CIRCULACION','COORDENADA_X','COORDENADA_Y']\n",
    "nombre_columnas0119=['GRAVEDAD','DIRECCION','MES','ANIO','HORA','IMPORTE_MULTA',\n",
    "                     'DESCUENTO','PUNTOS','DENUNCIANTE','DESCRIPCION_INFRACCION',\n",
    "                     'VELOCIDAD_LIMITE','VELOCIDAD_CIRCULACION','COORDENADA_X','COORDENADA_Y']\n",
    "nombre_columnas0219=['GRAVEDAD','DIRECCION','MES','ANIO','HORA','IMPORTE_MULTA',\n",
    "                     'DESCUENTO','PUNTOS','DENUNCIANTE','DESCRIPCION_INFRACCION',\n",
    "                     'VELOCIDAD_LIMITE','VELOCIDAD_CIRCULACION','COORDENADA_X','COORDENADA_Y']\n",
    "nombre_columnas0319=['GRAVEDAD','DIRECCION','MES','ANIO','HORA','IMPORTE_MULTA',\n",
    "                     'DESCUENTO','PUNTOS','DENUNCIANTE','DESCRIPCION_INFRACCION',\n",
    "                     'VELOCIDAD_LIMITE','VELOCIDAD_CIRCULACION','COORDENADA_X','COORDENADA_Y']\n",
    "nombre_columnas0419=['GRAVEDAD','DIRECCION','MES','ANIO','HORA','IMPORTE_MULTA',\n",
    "                     'DESCUENTO','PUNTOS','DENUNCIANTE','DESCRIPCION_INFRACCION',\n",
    "                     'VELOCIDAD_LIMITE','VELOCIDAD_CIRCULACION','COORDENADA_X','COORDENADA_Y']\n",
    "nombre_columnas0519=['GRAVEDAD','DIRECCION','MES','ANIO','HORA','IMPORTE_MULTA',\n",
    "                     'DESCUENTO','PUNTOS','DENUNCIANTE','DESCRIPCION_INFRACCION',\n",
    "                     'VELOCIDAD_LIMITE','VELOCIDAD_CIRCULACION','COORDENADA_X','COORDENADA_Y']\n",
    "nombre_columnas0619=['GRAVEDAD','DIRECCION','MES','ANIO','HORA','IMPORTE_MULTA',\n",
    "                     'DESCUENTO','PUNTOS','DENUNCIANTE','DESCRIPCION_INFRACCION',\n",
    "                     'VELOCIDAD_LIMITE','VELOCIDAD_CIRCULACION','COORDENADA_X','COORDENADA_Y']\n",
    "nombre_columnas0719=['GRAVEDAD','DIRECCION','MES','ANIO','HORA','IMPORTE_MULTA',\n",
    "                     'DESCUENTO','PUNTOS','DENUNCIANTE','DESCRIPCION_INFRACCION',\n",
    "                     'VELOCIDAD_LIMITE','VELOCIDAD_CIRCULACION','COORDENADA_X','COORDENADA_Y']\n",
    "nombre_columnas0819=['GRAVEDAD','DIRECCION','MES','ANIO','HORA','IMPORTE_MULTA',\n",
    "                     'DESCUENTO','PUNTOS','DENUNCIANTE','DESCRIPCION_INFRACCION',\n",
    "                     'VELOCIDAD_LIMITE','VELOCIDAD_CIRCULACION','COORDENADA_X','COORDENADA_Y']"
   ]
  },
  {
   "cell_type": "markdown",
   "metadata": {},
   "source": [
    "## 2.3 Cargamos cada tabla por separado, debido a la ctd. de datos en cada una"
   ]
  },
  {
   "cell_type": "markdown",
   "metadata": {},
   "source": [
    "### 2.3.1 Setiembre 2018"
   ]
  },
  {
   "cell_type": "markdown",
   "metadata": {},
   "source": [
    "#### 2.3.1.1 Cargamos el csv"
   ]
  },
  {
   "cell_type": "code",
   "execution_count": 4,
   "metadata": {},
   "outputs": [
    {
     "data": {
      "text/html": [
       "<div>\n",
       "<style scoped>\n",
       "    .dataframe tbody tr th:only-of-type {\n",
       "        vertical-align: middle;\n",
       "    }\n",
       "\n",
       "    .dataframe tbody tr th {\n",
       "        vertical-align: top;\n",
       "    }\n",
       "\n",
       "    .dataframe thead th {\n",
       "        text-align: right;\n",
       "    }\n",
       "</style>\n",
       "<table border=\"1\" class=\"dataframe\">\n",
       "  <thead>\n",
       "    <tr style=\"text-align: right;\">\n",
       "      <th></th>\n",
       "      <th>GRAVEDAD</th>\n",
       "      <th>DIRECCION</th>\n",
       "      <th>MES</th>\n",
       "      <th>ANIO</th>\n",
       "      <th>HORA</th>\n",
       "      <th>IMPORTE_MULTA</th>\n",
       "      <th>DESCUENTO</th>\n",
       "      <th>PUNTOS</th>\n",
       "      <th>DENUNCIANTE</th>\n",
       "      <th>DESCRIPCION_INFRACCION</th>\n",
       "      <th>VELOCIDAD_LIMITE</th>\n",
       "      <th>VELOCIDAD_CIRCULACION</th>\n",
       "      <th>COORDENADA_X</th>\n",
       "      <th>COORDENADA_Y</th>\n",
       "    </tr>\n",
       "  </thead>\n",
       "  <tbody>\n",
       "    <tr>\n",
       "      <th>0</th>\n",
       "      <td>LEVE</td>\n",
       "      <td>CL PEDRO RICO F33</td>\n",
       "      <td>9</td>\n",
       "      <td>2018</td>\n",
       "      <td>17.2</td>\n",
       "      <td>90.0</td>\n",
       "      <td>SI</td>\n",
       "      <td>0</td>\n",
       "      <td>SER</td>\n",
       "      <td>ESTACIONAR, SIN LA CORRESPONDIENTE AUTORIZACIÓ...</td>\n",
       "      <td></td>\n",
       "      <td></td>\n",
       "      <td></td>\n",
       "      <td></td>\n",
       "    </tr>\n",
       "    <tr>\n",
       "      <th>1</th>\n",
       "      <td>LEVE</td>\n",
       "      <td>CL PEDRO RICO F29</td>\n",
       "      <td>9</td>\n",
       "      <td>2018</td>\n",
       "      <td>17.5</td>\n",
       "      <td>90.0</td>\n",
       "      <td>SI</td>\n",
       "      <td>0</td>\n",
       "      <td>SER</td>\n",
       "      <td>ESTACIONAR, SIN LA CORRESPONDIENTE AUTORIZACIÓ...</td>\n",
       "      <td></td>\n",
       "      <td></td>\n",
       "      <td></td>\n",
       "      <td></td>\n",
       "    </tr>\n",
       "    <tr>\n",
       "      <th>2</th>\n",
       "      <td>LEVE</td>\n",
       "      <td>AV MONFORTE DE LEMOS 4</td>\n",
       "      <td>9</td>\n",
       "      <td>2018</td>\n",
       "      <td>19.1</td>\n",
       "      <td>90.0</td>\n",
       "      <td>SI</td>\n",
       "      <td>0</td>\n",
       "      <td>SER</td>\n",
       "      <td>ESTACIONAR, SIN LA CORRESPONDIENTE AUTORIZACIÓ...</td>\n",
       "      <td></td>\n",
       "      <td></td>\n",
       "      <td></td>\n",
       "      <td></td>\n",
       "    </tr>\n",
       "    <tr>\n",
       "      <th>3</th>\n",
       "      <td>LEVE</td>\n",
       "      <td>AV MONFORTE DE LEMOS 2</td>\n",
       "      <td>9</td>\n",
       "      <td>2018</td>\n",
       "      <td>19.2</td>\n",
       "      <td>60.0</td>\n",
       "      <td>SI</td>\n",
       "      <td>0</td>\n",
       "      <td>SER</td>\n",
       "      <td>ESTACIONAR CON AUTORIZACIÓN NO VÁLIDA.        ...</td>\n",
       "      <td></td>\n",
       "      <td></td>\n",
       "      <td></td>\n",
       "      <td></td>\n",
       "    </tr>\n",
       "    <tr>\n",
       "      <th>4</th>\n",
       "      <td>LEVE</td>\n",
       "      <td>CL SOR ANGELA DE LA CRUZ 7</td>\n",
       "      <td>9</td>\n",
       "      <td>2018</td>\n",
       "      <td>10.1</td>\n",
       "      <td>90.0</td>\n",
       "      <td>SI</td>\n",
       "      <td>0</td>\n",
       "      <td>SER</td>\n",
       "      <td>ESTACIONAR, SIN LA CORRESPONDIENTE AUTORIZACIÓ...</td>\n",
       "      <td></td>\n",
       "      <td></td>\n",
       "      <td></td>\n",
       "      <td></td>\n",
       "    </tr>\n",
       "  </tbody>\n",
       "</table>\n",
       "</div>"
      ],
      "text/plain": [
       "     GRAVEDAD                                 DIRECCION  MES  ANIO  HORA  \\\n",
       "0  LEVE        CL PEDRO RICO F33                           9  2018  17.2   \n",
       "1  LEVE        CL PEDRO RICO F29                           9  2018  17.5   \n",
       "2  LEVE        AV MONFORTE DE LEMOS 4                      9  2018  19.1   \n",
       "3  LEVE        AV MONFORTE DE LEMOS 2                      9  2018  19.2   \n",
       "4  LEVE        CL SOR ANGELA DE LA CRUZ 7                  9  2018  10.1   \n",
       "\n",
       "   IMPORTE_MULTA DESCUENTO  PUNTOS           DENUNCIANTE  \\\n",
       "0           90.0        SI       0  SER                    \n",
       "1           90.0        SI       0  SER                    \n",
       "2           90.0        SI       0  SER                    \n",
       "3           60.0        SI       0  SER                    \n",
       "4           90.0        SI       0  SER                    \n",
       "\n",
       "                              DESCRIPCION_INFRACCION VELOCIDAD_LIMITE  \\\n",
       "0  ESTACIONAR, SIN LA CORRESPONDIENTE AUTORIZACIÓ...                    \n",
       "1  ESTACIONAR, SIN LA CORRESPONDIENTE AUTORIZACIÓ...                    \n",
       "2  ESTACIONAR, SIN LA CORRESPONDIENTE AUTORIZACIÓ...                    \n",
       "3  ESTACIONAR CON AUTORIZACIÓN NO VÁLIDA.        ...                    \n",
       "4  ESTACIONAR, SIN LA CORRESPONDIENTE AUTORIZACIÓ...                    \n",
       "\n",
       "  VELOCIDAD_CIRCULACION COORDENADA_X COORDENADA_Y  \n",
       "0                                                  \n",
       "1                                                  \n",
       "2                                                  \n",
       "3                                                  \n",
       "4                                                  "
      ]
     },
     "execution_count": 4,
     "metadata": {},
     "output_type": "execute_result"
    }
   ],
   "source": [
    "set18 = pd.read_csv(path_web0918, sep=';', encoding='windows-1250', \n",
    "                    index_col=False, header=None,names=nombre_columnas0918,skiprows=1)\n",
    "set18.head()"
   ]
  },
  {
   "cell_type": "markdown",
   "metadata": {},
   "source": [
    "#### 2.3.1.2 Revisamos el tipo de variable \"Hora\" para analizarla"
   ]
  },
  {
   "cell_type": "code",
   "execution_count": 5,
   "metadata": {},
   "outputs": [
    {
     "data": {
      "text/plain": [
       "GRAVEDAD                   object\n",
       "DIRECCION                  object\n",
       "MES                         int64\n",
       "ANIO                        int64\n",
       "HORA                      float64\n",
       "IMPORTE_MULTA             float64\n",
       "DESCUENTO                  object\n",
       "PUNTOS                      int64\n",
       "DENUNCIANTE                object\n",
       "DESCRIPCION_INFRACCION     object\n",
       "VELOCIDAD_LIMITE           object\n",
       "VELOCIDAD_CIRCULACION      object\n",
       "COORDENADA_X               object\n",
       "COORDENADA_Y               object\n",
       "dtype: object"
      ]
     },
     "execution_count": 5,
     "metadata": {},
     "output_type": "execute_result"
    }
   ],
   "source": [
    "set18.dtypes"
   ]
  },
  {
   "cell_type": "markdown",
   "metadata": {},
   "source": [
    "#### 2.3.1.3 Convertimos la variable \"Hora\" a string para modificarla a formato \"HH:00\""
   ]
  },
  {
   "cell_type": "code",
   "execution_count": 6,
   "metadata": {},
   "outputs": [
    {
     "data": {
      "text/plain": [
       "GRAVEDAD                   object\n",
       "DIRECCION                  object\n",
       "MES                         int64\n",
       "ANIO                        int64\n",
       "HORA                       object\n",
       "IMPORTE_MULTA             float64\n",
       "DESCUENTO                  object\n",
       "PUNTOS                      int64\n",
       "DENUNCIANTE                object\n",
       "DESCRIPCION_INFRACCION     object\n",
       "VELOCIDAD_LIMITE           object\n",
       "VELOCIDAD_CIRCULACION      object\n",
       "COORDENADA_X               object\n",
       "COORDENADA_Y               object\n",
       "dtype: object"
      ]
     },
     "execution_count": 6,
     "metadata": {},
     "output_type": "execute_result"
    }
   ],
   "source": [
    "# Convertimos la variable a string\n",
    "\n",
    "set18.HORA=set18.HORA.apply(lambda i: str(i))\n",
    "set18.dtypes"
   ]
  },
  {
   "cell_type": "code",
   "execution_count": 7,
   "metadata": {},
   "outputs": [
    {
     "data": {
      "text/html": [
       "<div>\n",
       "<style scoped>\n",
       "    .dataframe tbody tr th:only-of-type {\n",
       "        vertical-align: middle;\n",
       "    }\n",
       "\n",
       "    .dataframe tbody tr th {\n",
       "        vertical-align: top;\n",
       "    }\n",
       "\n",
       "    .dataframe thead th {\n",
       "        text-align: right;\n",
       "    }\n",
       "</style>\n",
       "<table border=\"1\" class=\"dataframe\">\n",
       "  <thead>\n",
       "    <tr style=\"text-align: right;\">\n",
       "      <th></th>\n",
       "      <th>GRAVEDAD</th>\n",
       "      <th>DIRECCION</th>\n",
       "      <th>MES</th>\n",
       "      <th>ANIO</th>\n",
       "      <th>HORA</th>\n",
       "      <th>IMPORTE_MULTA</th>\n",
       "      <th>DESCUENTO</th>\n",
       "      <th>PUNTOS</th>\n",
       "      <th>DENUNCIANTE</th>\n",
       "      <th>DESCRIPCION_INFRACCION</th>\n",
       "      <th>VELOCIDAD_LIMITE</th>\n",
       "      <th>VELOCIDAD_CIRCULACION</th>\n",
       "      <th>COORDENADA_X</th>\n",
       "      <th>COORDENADA_Y</th>\n",
       "    </tr>\n",
       "  </thead>\n",
       "  <tbody>\n",
       "    <tr>\n",
       "      <th>0</th>\n",
       "      <td>LEVE</td>\n",
       "      <td>CL PEDRO RICO F33</td>\n",
       "      <td>9</td>\n",
       "      <td>2018</td>\n",
       "      <td>17:2</td>\n",
       "      <td>90.0</td>\n",
       "      <td>SI</td>\n",
       "      <td>0</td>\n",
       "      <td>SER</td>\n",
       "      <td>ESTACIONAR, SIN LA CORRESPONDIENTE AUTORIZACIÓ...</td>\n",
       "      <td></td>\n",
       "      <td></td>\n",
       "      <td></td>\n",
       "      <td></td>\n",
       "    </tr>\n",
       "    <tr>\n",
       "      <th>1</th>\n",
       "      <td>LEVE</td>\n",
       "      <td>CL PEDRO RICO F29</td>\n",
       "      <td>9</td>\n",
       "      <td>2018</td>\n",
       "      <td>17:47</td>\n",
       "      <td>90.0</td>\n",
       "      <td>SI</td>\n",
       "      <td>0</td>\n",
       "      <td>SER</td>\n",
       "      <td>ESTACIONAR, SIN LA CORRESPONDIENTE AUTORIZACIÓ...</td>\n",
       "      <td></td>\n",
       "      <td></td>\n",
       "      <td></td>\n",
       "      <td></td>\n",
       "    </tr>\n",
       "    <tr>\n",
       "      <th>2</th>\n",
       "      <td>LEVE</td>\n",
       "      <td>AV MONFORTE DE LEMOS 4</td>\n",
       "      <td>9</td>\n",
       "      <td>2018</td>\n",
       "      <td>19:08</td>\n",
       "      <td>90.0</td>\n",
       "      <td>SI</td>\n",
       "      <td>0</td>\n",
       "      <td>SER</td>\n",
       "      <td>ESTACIONAR, SIN LA CORRESPONDIENTE AUTORIZACIÓ...</td>\n",
       "      <td></td>\n",
       "      <td></td>\n",
       "      <td></td>\n",
       "      <td></td>\n",
       "    </tr>\n",
       "    <tr>\n",
       "      <th>3</th>\n",
       "      <td>LEVE</td>\n",
       "      <td>AV MONFORTE DE LEMOS 2</td>\n",
       "      <td>9</td>\n",
       "      <td>2018</td>\n",
       "      <td>19:16</td>\n",
       "      <td>60.0</td>\n",
       "      <td>SI</td>\n",
       "      <td>0</td>\n",
       "      <td>SER</td>\n",
       "      <td>ESTACIONAR CON AUTORIZACIÓN NO VÁLIDA.        ...</td>\n",
       "      <td></td>\n",
       "      <td></td>\n",
       "      <td></td>\n",
       "      <td></td>\n",
       "    </tr>\n",
       "    <tr>\n",
       "      <th>4</th>\n",
       "      <td>LEVE</td>\n",
       "      <td>CL SOR ANGELA DE LA CRUZ 7</td>\n",
       "      <td>9</td>\n",
       "      <td>2018</td>\n",
       "      <td>10:12</td>\n",
       "      <td>90.0</td>\n",
       "      <td>SI</td>\n",
       "      <td>0</td>\n",
       "      <td>SER</td>\n",
       "      <td>ESTACIONAR, SIN LA CORRESPONDIENTE AUTORIZACIÓ...</td>\n",
       "      <td></td>\n",
       "      <td></td>\n",
       "      <td></td>\n",
       "      <td></td>\n",
       "    </tr>\n",
       "  </tbody>\n",
       "</table>\n",
       "</div>"
      ],
      "text/plain": [
       "     GRAVEDAD                                 DIRECCION  MES  ANIO   HORA  \\\n",
       "0  LEVE        CL PEDRO RICO F33                           9  2018   17:2   \n",
       "1  LEVE        CL PEDRO RICO F29                           9  2018  17:47   \n",
       "2  LEVE        AV MONFORTE DE LEMOS 4                      9  2018  19:08   \n",
       "3  LEVE        AV MONFORTE DE LEMOS 2                      9  2018  19:16   \n",
       "4  LEVE        CL SOR ANGELA DE LA CRUZ 7                  9  2018  10:12   \n",
       "\n",
       "   IMPORTE_MULTA DESCUENTO  PUNTOS           DENUNCIANTE  \\\n",
       "0           90.0        SI       0  SER                    \n",
       "1           90.0        SI       0  SER                    \n",
       "2           90.0        SI       0  SER                    \n",
       "3           60.0        SI       0  SER                    \n",
       "4           90.0        SI       0  SER                    \n",
       "\n",
       "                              DESCRIPCION_INFRACCION VELOCIDAD_LIMITE  \\\n",
       "0  ESTACIONAR, SIN LA CORRESPONDIENTE AUTORIZACIÓ...                    \n",
       "1  ESTACIONAR, SIN LA CORRESPONDIENTE AUTORIZACIÓ...                    \n",
       "2  ESTACIONAR, SIN LA CORRESPONDIENTE AUTORIZACIÓ...                    \n",
       "3  ESTACIONAR CON AUTORIZACIÓN NO VÁLIDA.        ...                    \n",
       "4  ESTACIONAR, SIN LA CORRESPONDIENTE AUTORIZACIÓ...                    \n",
       "\n",
       "  VELOCIDAD_CIRCULACION COORDENADA_X COORDENADA_Y  \n",
       "0                                                  \n",
       "1                                                  \n",
       "2                                                  \n",
       "3                                                  \n",
       "4                                                  "
      ]
     },
     "execution_count": 7,
     "metadata": {},
     "output_type": "execute_result"
    }
   ],
   "source": [
    "# Reemplazamos los \".\" por \":\"\n",
    "\n",
    "set18['HORA']=set18.HORA.apply(lambda i: i.replace('.',':'))\n",
    "set18.head()"
   ]
  },
  {
   "cell_type": "code",
   "execution_count": 8,
   "metadata": {},
   "outputs": [
    {
     "data": {
      "text/html": [
       "<div>\n",
       "<style scoped>\n",
       "    .dataframe tbody tr th:only-of-type {\n",
       "        vertical-align: middle;\n",
       "    }\n",
       "\n",
       "    .dataframe tbody tr th {\n",
       "        vertical-align: top;\n",
       "    }\n",
       "\n",
       "    .dataframe thead th {\n",
       "        text-align: right;\n",
       "    }\n",
       "</style>\n",
       "<table border=\"1\" class=\"dataframe\">\n",
       "  <thead>\n",
       "    <tr style=\"text-align: right;\">\n",
       "      <th></th>\n",
       "      <th>GRAVEDAD</th>\n",
       "      <th>DIRECCION</th>\n",
       "      <th>MES</th>\n",
       "      <th>ANIO</th>\n",
       "      <th>HORA</th>\n",
       "      <th>IMPORTE_MULTA</th>\n",
       "      <th>DESCUENTO</th>\n",
       "      <th>PUNTOS</th>\n",
       "      <th>DENUNCIANTE</th>\n",
       "      <th>DESCRIPCION_INFRACCION</th>\n",
       "      <th>VELOCIDAD_LIMITE</th>\n",
       "      <th>VELOCIDAD_CIRCULACION</th>\n",
       "      <th>COORDENADA_X</th>\n",
       "      <th>COORDENADA_Y</th>\n",
       "    </tr>\n",
       "  </thead>\n",
       "  <tbody>\n",
       "    <tr>\n",
       "      <th>0</th>\n",
       "      <td>LEVE</td>\n",
       "      <td>CL PEDRO RICO F33</td>\n",
       "      <td>9</td>\n",
       "      <td>2018</td>\n",
       "      <td>1900-01-01 17:02:00</td>\n",
       "      <td>90.0</td>\n",
       "      <td>SI</td>\n",
       "      <td>0</td>\n",
       "      <td>SER</td>\n",
       "      <td>ESTACIONAR, SIN LA CORRESPONDIENTE AUTORIZACIÓ...</td>\n",
       "      <td></td>\n",
       "      <td></td>\n",
       "      <td></td>\n",
       "      <td></td>\n",
       "    </tr>\n",
       "    <tr>\n",
       "      <th>1</th>\n",
       "      <td>LEVE</td>\n",
       "      <td>CL PEDRO RICO F29</td>\n",
       "      <td>9</td>\n",
       "      <td>2018</td>\n",
       "      <td>1900-01-01 17:47:00</td>\n",
       "      <td>90.0</td>\n",
       "      <td>SI</td>\n",
       "      <td>0</td>\n",
       "      <td>SER</td>\n",
       "      <td>ESTACIONAR, SIN LA CORRESPONDIENTE AUTORIZACIÓ...</td>\n",
       "      <td></td>\n",
       "      <td></td>\n",
       "      <td></td>\n",
       "      <td></td>\n",
       "    </tr>\n",
       "    <tr>\n",
       "      <th>2</th>\n",
       "      <td>LEVE</td>\n",
       "      <td>AV MONFORTE DE LEMOS 4</td>\n",
       "      <td>9</td>\n",
       "      <td>2018</td>\n",
       "      <td>1900-01-01 19:08:00</td>\n",
       "      <td>90.0</td>\n",
       "      <td>SI</td>\n",
       "      <td>0</td>\n",
       "      <td>SER</td>\n",
       "      <td>ESTACIONAR, SIN LA CORRESPONDIENTE AUTORIZACIÓ...</td>\n",
       "      <td></td>\n",
       "      <td></td>\n",
       "      <td></td>\n",
       "      <td></td>\n",
       "    </tr>\n",
       "    <tr>\n",
       "      <th>3</th>\n",
       "      <td>LEVE</td>\n",
       "      <td>AV MONFORTE DE LEMOS 2</td>\n",
       "      <td>9</td>\n",
       "      <td>2018</td>\n",
       "      <td>1900-01-01 19:16:00</td>\n",
       "      <td>60.0</td>\n",
       "      <td>SI</td>\n",
       "      <td>0</td>\n",
       "      <td>SER</td>\n",
       "      <td>ESTACIONAR CON AUTORIZACIÓN NO VÁLIDA.        ...</td>\n",
       "      <td></td>\n",
       "      <td></td>\n",
       "      <td></td>\n",
       "      <td></td>\n",
       "    </tr>\n",
       "    <tr>\n",
       "      <th>4</th>\n",
       "      <td>LEVE</td>\n",
       "      <td>CL SOR ANGELA DE LA CRUZ 7</td>\n",
       "      <td>9</td>\n",
       "      <td>2018</td>\n",
       "      <td>1900-01-01 10:12:00</td>\n",
       "      <td>90.0</td>\n",
       "      <td>SI</td>\n",
       "      <td>0</td>\n",
       "      <td>SER</td>\n",
       "      <td>ESTACIONAR, SIN LA CORRESPONDIENTE AUTORIZACIÓ...</td>\n",
       "      <td></td>\n",
       "      <td></td>\n",
       "      <td></td>\n",
       "      <td></td>\n",
       "    </tr>\n",
       "  </tbody>\n",
       "</table>\n",
       "</div>"
      ],
      "text/plain": [
       "     GRAVEDAD                                 DIRECCION  MES  ANIO  \\\n",
       "0  LEVE        CL PEDRO RICO F33                           9  2018   \n",
       "1  LEVE        CL PEDRO RICO F29                           9  2018   \n",
       "2  LEVE        AV MONFORTE DE LEMOS 4                      9  2018   \n",
       "3  LEVE        AV MONFORTE DE LEMOS 2                      9  2018   \n",
       "4  LEVE        CL SOR ANGELA DE LA CRUZ 7                  9  2018   \n",
       "\n",
       "                 HORA  IMPORTE_MULTA DESCUENTO  PUNTOS           DENUNCIANTE  \\\n",
       "0 1900-01-01 17:02:00           90.0        SI       0  SER                    \n",
       "1 1900-01-01 17:47:00           90.0        SI       0  SER                    \n",
       "2 1900-01-01 19:08:00           90.0        SI       0  SER                    \n",
       "3 1900-01-01 19:16:00           60.0        SI       0  SER                    \n",
       "4 1900-01-01 10:12:00           90.0        SI       0  SER                    \n",
       "\n",
       "                              DESCRIPCION_INFRACCION VELOCIDAD_LIMITE  \\\n",
       "0  ESTACIONAR, SIN LA CORRESPONDIENTE AUTORIZACIÓ...                    \n",
       "1  ESTACIONAR, SIN LA CORRESPONDIENTE AUTORIZACIÓ...                    \n",
       "2  ESTACIONAR, SIN LA CORRESPONDIENTE AUTORIZACIÓ...                    \n",
       "3  ESTACIONAR CON AUTORIZACIÓN NO VÁLIDA.        ...                    \n",
       "4  ESTACIONAR, SIN LA CORRESPONDIENTE AUTORIZACIÓ...                    \n",
       "\n",
       "  VELOCIDAD_CIRCULACION COORDENADA_X COORDENADA_Y  \n",
       "0                                                  \n",
       "1                                                  \n",
       "2                                                  \n",
       "3                                                  \n",
       "4                                                  "
      ]
     },
     "execution_count": 8,
     "metadata": {},
     "output_type": "execute_result"
    }
   ],
   "source": [
    "# Convertimos los string a formato fecha-hora\n",
    "\n",
    "set18['HORA']=pd.to_datetime(set18['HORA'],format='%H:%M')\n",
    "set18.head()"
   ]
  },
  {
   "cell_type": "markdown",
   "metadata": {},
   "source": [
    "#### 2.3.1.4 Una vez convertida la variable en formato hora la estandarizamos para plotear y creamos una columna adicional para el ploteo final"
   ]
  },
  {
   "cell_type": "code",
   "execution_count": 9,
   "metadata": {},
   "outputs": [
    {
     "name": "stderr",
     "output_type": "stream",
     "text": [
      "D:\\Anaconda\\lib\\site-packages\\ipykernel_launcher.py:4: FutureWarning: set_value is deprecated and will be removed in a future release. Please use .at[] or .iat[] accessors instead\n",
      "  after removing the cwd from sys.path.\n"
     ]
    }
   ],
   "source": [
    "# Solo utilizaremos las horas descartando los minutos y crearemos una columna para ingresarla al ploteo más adelante\n",
    "\n",
    "for n in range(0,set18.shape[0]):\n",
    "    set18.set_value(n,'hora_entera',set18.loc[n,'HORA'].strftime('%H')+':00');"
   ]
  },
  {
   "cell_type": "code",
   "execution_count": 10,
   "metadata": {},
   "outputs": [
    {
     "data": {
      "text/plain": [
       "199997"
      ]
     },
     "execution_count": 10,
     "metadata": {},
     "output_type": "execute_result"
    }
   ],
   "source": [
    "# Hallamos el total de multas del mes\n",
    "\n",
    "len(set18)"
   ]
  },
  {
   "cell_type": "markdown",
   "metadata": {},
   "source": [
    "#### 2.3.1.5 Ploteamos el gráfico para el mes de Septiembre, para encontrar las horas pico de multas"
   ]
  },
  {
   "cell_type": "code",
   "execution_count": 11,
   "metadata": {},
   "outputs": [
    {
     "data": {
      "image/png": "[encoded data removed]",
      "text/plain": [
       "<Figure size 504x288 with 1 Axes>"
      ]
     },
     "metadata": {
      "needs_background": "light"
     },
     "output_type": "display_data"
    }
   ],
   "source": [
    "set18_hist=set18['hora_entera'].value_counts().sort_index(axis=0)\n",
    "fig = plt.figure(1, (7,4))\n",
    "ax = fig.add_subplot(1,1,1)\n",
    "ax=set18_hist.plot.bar()\n",
    "ax.locator_params(axis='y',nbins=10)\n",
    "ax.set_xlabel('Hora del día')\n",
    "ax.set_ylabel('Número de multas',size=16)\n",
    "ax.grid(axis='y')\n",
    "ax.set_title('Multas acumuladas por hora sep-18')\n",
    "fig.suptitle('Fuente: Ayuntamiento de Madrid, http://datos.madrid.es',size=10,x=1,y=-0.01)\n",
    "fig.savefig('multas_hora_sep18',bbox_inches = 'tight')"
   ]
  },
  {
   "cell_type": "markdown",
   "metadata": {},
   "source": [
    "#### 2.3.1.6 Ploteamos el gráfico para el mes de Septiembre, para encontrar el % por hora en el mes de Septiembre"
   ]
  },
  {
   "cell_type": "code",
   "execution_count": 12,
   "metadata": {},
   "outputs": [
    {
     "data": {
      "image/png": "[encoded data removed]",
      "text/plain": [
       "<Figure size 504x288 with 1 Axes>"
      ]
     },
     "metadata": {
      "needs_background": "light"
     },
     "output_type": "display_data"
    }
   ],
   "source": [
    "set18_hist_porcentaje=set18['hora_entera'].value_counts().sort_index(axis=0)/len(set18)*100\n",
    "fig = plt.figure(1, (7,4))\n",
    "ax = fig.add_subplot(1,1,1)\n",
    "ax=set18_hist_porcentaje.plot.bar()\n",
    "ax.locator_params(axis='y',nbins=10)\n",
    "ax.set_xlabel('Hora del día')\n",
    "ax.set_ylabel('% multas',size=16)\n",
    "ax.grid(axis='y')\n",
    "ax.set_title('Porcentajes de multas en cada hora Sep-18')\n",
    "fmt = '%3.1f%%'\n",
    "yticks = mtick.FormatStrFormatter(fmt)\n",
    "ax.yaxis.set_major_formatter(yticks)\n",
    "fig.suptitle('Fuente: Ayuntamiento de Madrid, http://datos.madrid.es',size=10,x=1,y=-0.01)\n",
    "fig.savefig('set18_hora_porcentaje_sep18',bbox_inches = 'tight')"
   ]
  },
  {
   "cell_type": "markdown",
   "metadata": {},
   "source": [
    "#### 2.3.1.3 Revisamos la variable \"Puntos\""
   ]
  },
  {
   "cell_type": "code",
   "execution_count": 13,
   "metadata": {},
   "outputs": [
    {
     "name": "stdout",
     "output_type": "stream",
     "text": [
      "Puntos total perdidos: 23,524 puntos\n"
     ]
    }
   ],
   "source": [
    "puntos_totales=set18.PUNTOS.sum()\n",
    "print ('Puntos total perdidos: {:,.0f} puntos'.format(puntos_totales))"
   ]
  },
  {
   "cell_type": "code",
   "execution_count": 14,
   "metadata": {},
   "outputs": [
    {
     "name": "stdout",
     "output_type": "stream",
     "text": [
      "Importe total de multas antes de descuento: 19,534,120 euros\n"
     ]
    }
   ],
   "source": [
    "euros_totales=set18.IMPORTE_MULTA.sum()\n",
    "print ('Importe total de multas antes de descuento: {:,.0f} euros'.format(euros_totales))"
   ]
  },
  {
   "cell_type": "code",
   "execution_count": 35,
   "metadata": {},
   "outputs": [
    {
     "data": {
      "image/png": "[encoded data removed]",
      "text/plain": [
       "<Figure size 432x288 with 1 Axes>"
      ]
     },
     "metadata": {
      "needs_background": "light"
     },
     "output_type": "display_data"
    }
   ],
   "source": [
    "set18_euros=set18.sort_values('HORA').groupby(\"hora_entera\",sort=False).IMPORTE_MULTA\n",
    "fig1 = plt.figure()\n",
    "ax1 = fig1.add_subplot(1,1,1)\n",
    "ax1 = set18_euros.sum().plot.bar()\n",
    "ax1.locator_params(axis='y',nbins=10)\n",
    "ax1.set_xlabel('Hora del día')\n",
    "ax1.set_ylabel('Euros',size=16)\n",
    "ax1.tick_params(axis='x',direction='out', length=6, width=2, colors='black')\n",
    "#ax1.set_xticklabels(set18_euros['hora_entera'])\n",
    "ax1.grid(axis='y')\n",
    "ax1.set_title('Distribucion de Euros de multa por hora Set-18')\n",
    "fig1.suptitle('Fuente: Ayuntamiento de Madrid, http://datos.madrid.es',size=10,x=1,y=-0.01)\n",
    "fig.savefig('euros_hora',bbox_inches = 'tight')"
   ]
  },
  {
   "cell_type": "code",
   "execution_count": 36,
   "metadata": {},
   "outputs": [
    {
     "data": {
      "image/png": "[encoded data removed]",
      "text/plain": [
       "<Figure size 504x288 with 1 Axes>"
      ]
     },
     "metadata": {
      "needs_background": "light"
     },
     "output_type": "display_data"
    }
   ],
   "source": [
    "set18_puntos=set18.sort_values('HORA').groupby(\"hora_entera\",sort=False).PUNTOS\n",
    "fig1 = plt.figure(1,(7,4))\n",
    "ax1 = fig1.add_subplot(1,1,1)\n",
    "ax1 = set18_puntos.sum().plot.bar()\n",
    "ax1.locator_params(axis='y',nbins=10)\n",
    "ax1.set_xlabel('Hora del día')\n",
    "ax1.set_ylabel('Puntos',size=16)\n",
    "ax1.tick_params(axis='x',direction='out', length=6, width=2, colors='black')\n",
    "#ax1.set_xticklabels(multas_euros['hora_entera'])\n",
    "ax1.grid(axis='y')\n",
    "ax1.set_title('Distribucion de Puntos por hora Sep-18')\n",
    "fig1.suptitle('Fuente: Ayuntamiento de Madrid, http://datos.madrid.es',size=10,x=1,y=-0.01)\n",
    "fig1.savefig('puntos_hora_Sep18',bbox_inches = 'tight')"
   ]
  },
  {
   "cell_type": "code",
   "execution_count": 32,
   "metadata": {},
   "outputs": [
    {
     "data": {
      "image/png": "[encoded data removed]",
      "text/plain": [
       "<Figure size 504x288 with 1 Axes>"
      ]
     },
     "metadata": {
      "needs_background": "light"
     },
     "output_type": "display_data"
    }
   ],
   "source": [
    "ratio_euros_set18=set18_euros.sum()/set18_hist\n",
    "fig = plt.figure(1, (7,4))\n",
    "ax = fig.add_subplot(1,1,1)\n",
    "ax=ratio_euros_set18.plot.bar()\n",
    "ax.locator_params(axis='y',nbins=10)\n",
    "ax.set_xlabel('Hora del día')\n",
    "ax.set_ylabel('€/multa',size=16)\n",
    "ax.grid(axis='y')\n",
    "ax.set_title('Media de € por multa Sep-18')\n",
    "fig.suptitle('Fuente: Ayuntamiento de Madrid, http://datos.madrid.es',size=10,x=1,y=-0.01)\n",
    "fig.savefig('media_euros_multa_Jul17',bbox_inches = 'tight')"
   ]
  },
  {
   "cell_type": "code",
   "execution_count": 34,
   "metadata": {},
   "outputs": [
    {
     "data": {
      "image/png": "[encoded data removed]",
      "text/plain": [
       "<Figure size 504x288 with 1 Axes>"
      ]
     },
     "metadata": {
      "needs_background": "light"
     },
     "output_type": "display_data"
    }
   ],
   "source": [
    "ratio_puntos_set18=set18_puntos.sum()/set18_hist\n",
    "fig = plt.figure(1, (7,4))\n",
    "ax = fig.add_subplot(1,1,1)\n",
    "ax=ratio_puntos_set18.plot.bar()\n",
    "ax.locator_params(axis='y',nbins=10)\n",
    "ax.set_xlabel('Hora del día')\n",
    "ax.set_ylabel('Puntos/multa',size=16)\n",
    "ax.grid(axis='y')\n",
    "ax.set_title('Media de puntos por multas en cada hora Sep 18')\n",
    "fig.suptitle('Fuente: Ayuntamiento de Madrid, http://datos.madrid.es',size=10,x=1,y=-0.01)\n",
    "fig.savefig('media_puntos_multa_Sep18',bbox_inches = 'tight')"
   ]
  },
  {
   "cell_type": "code",
   "execution_count": null,
   "metadata": {},
   "outputs": [],
   "source": []
  },
  {
   "cell_type": "code",
   "execution_count": null,
   "metadata": {},
   "outputs": [],
   "source": []
  },
  {
   "cell_type": "code",
   "execution_count": null,
   "metadata": {},
   "outputs": [],
   "source": []
  },
  {
   "cell_type": "code",
   "execution_count": null,
   "metadata": {},
   "outputs": [],
   "source": []
  },
  {
   "cell_type": "code",
   "execution_count": null,
   "metadata": {},
   "outputs": [],
   "source": []
  },
  {
   "cell_type": "code",
   "execution_count": null,
   "metadata": {},
   "outputs": [],
   "source": []
  },
  {
   "cell_type": "code",
   "execution_count": null,
   "metadata": {},
   "outputs": [],
   "source": []
  },
  {
   "cell_type": "code",
   "execution_count": null,
   "metadata": {},
   "outputs": [],
   "source": []
  },
  {
   "cell_type": "code",
   "execution_count": null,
   "metadata": {},
   "outputs": [],
   "source": []
  },
  {
   "cell_type": "code",
   "execution_count": null,
   "metadata": {},
   "outputs": [],
   "source": []
  },
  {
   "cell_type": "markdown",
   "metadata": {},
   "source": [
    "### 2.3.2 Octubre 2018"
   ]
  },
  {
   "cell_type": "code",
   "execution_count": 17,
   "metadata": {},
   "outputs": [],
   "source": [
    "oct18 = pd.read_csv(path_web1018, sep=';', encoding='windows-1250', \n",
    "                    index_col=False, header=None,names=nombre_columnas1018,skiprows=1)"
   ]
  },
  {
   "cell_type": "markdown",
   "metadata": {},
   "source": [
    "### 2.3.3 Noviembre 2018"
   ]
  },
  {
   "cell_type": "code",
   "execution_count": 18,
   "metadata": {},
   "outputs": [],
   "source": [
    "nov18 = pd.read_csv(path_web1118, sep=';', encoding='windows-1250', \n",
    "                    index_col=False, header=None,names=nombre_columnas1118,skiprows=1)"
   ]
  },
  {
   "cell_type": "markdown",
   "metadata": {},
   "source": [
    "### 2.3.4 Diciembre 2018"
   ]
  },
  {
   "cell_type": "code",
   "execution_count": 19,
   "metadata": {},
   "outputs": [],
   "source": [
    "dic18 = pd.read_csv(path_web1218, sep=';', encoding='windows-1250', \n",
    "                    index_col=False, header=None,names=nombre_columnas1218,skiprows=1)"
   ]
  },
  {
   "cell_type": "markdown",
   "metadata": {},
   "source": [
    "### 2.3.5 Enero 2019"
   ]
  },
  {
   "cell_type": "code",
   "execution_count": 20,
   "metadata": {},
   "outputs": [],
   "source": [
    "ene19 = pd.read_csv(path_web0119, sep=';', encoding='windows-1250', \n",
    "                    index_col=False, header=None,names=nombre_columnas0119,skiprows=1)"
   ]
  },
  {
   "cell_type": "markdown",
   "metadata": {},
   "source": [
    "### 2.3.6 Febrero 2019"
   ]
  },
  {
   "cell_type": "code",
   "execution_count": 21,
   "metadata": {},
   "outputs": [],
   "source": [
    "feb19 = pd.read_csv(path_web0219, sep=';', encoding='windows-1250', \n",
    "                    index_col=False, header=None,names=nombre_columnas0219,skiprows=1)"
   ]
  },
  {
   "cell_type": "markdown",
   "metadata": {},
   "source": [
    "### 2.3.7 Marzo 2019"
   ]
  },
  {
   "cell_type": "code",
   "execution_count": 22,
   "metadata": {},
   "outputs": [],
   "source": [
    "mar19 = pd.read_csv(path_web0319, sep=';', encoding='windows-1250', \n",
    "                    index_col=False, header=None,names=nombre_columnas0319,skiprows=1)"
   ]
  },
  {
   "cell_type": "markdown",
   "metadata": {},
   "source": [
    "### 2.3.8 Abril 2019"
   ]
  },
  {
   "cell_type": "code",
   "execution_count": 23,
   "metadata": {},
   "outputs": [],
   "source": [
    "abr19 = pd.read_csv(path_web0419, sep=';', encoding='windows-1250', \n",
    "                    index_col=False, header=None,names=nombre_columnas0419,skiprows=1)"
   ]
  },
  {
   "cell_type": "markdown",
   "metadata": {},
   "source": [
    "### 2.3.9 Mayo 2019"
   ]
  },
  {
   "cell_type": "code",
   "execution_count": 24,
   "metadata": {},
   "outputs": [],
   "source": [
    "may19 = pd.read_csv(path_web0519, sep=';', encoding='windows-1250', \n",
    "                    index_col=False, header=None,names=nombre_columnas0519,skiprows=1)"
   ]
  },
  {
   "cell_type": "markdown",
   "metadata": {},
   "source": [
    "### 2.3.10 Junio 2019"
   ]
  },
  {
   "cell_type": "code",
   "execution_count": 25,
   "metadata": {},
   "outputs": [],
   "source": [
    "jun19 = pd.read_csv(path_web0619, sep=';', encoding='windows-1250', \n",
    "                    index_col=False, header=None,names=nombre_columnas0619,skiprows=1)"
   ]
  },
  {
   "cell_type": "markdown",
   "metadata": {},
   "source": [
    "### 2.3.11 Julio 2019"
   ]
  },
  {
   "cell_type": "code",
   "execution_count": 26,
   "metadata": {},
   "outputs": [],
   "source": [
    "jul19 = pd.read_csv(path_web0719, sep=';', encoding='windows-1250', \n",
    "                    index_col=False, header=None,names=nombre_columnas0719,skiprows=1)"
   ]
  },
  {
   "cell_type": "markdown",
   "metadata": {},
   "source": [
    "### 2.3.12 Agosto 2019"
   ]
  },
  {
   "cell_type": "code",
   "execution_count": 27,
   "metadata": {},
   "outputs": [],
   "source": [
    "ago19 = pd.read_csv(path_web0819, sep=';', encoding='windows-1250', \n",
    "                    index_col=False, header=None,names=nombre_columnas0819,skiprows=1)"
   ]
  },
  {
   "cell_type": "code",
   "execution_count": 28,
   "metadata": {},
   "outputs": [],
   "source": [
    "#set18 = pd.read_csv('set18.csv', sep=';', encoding='windows-1250', index_col=False, header=0)\n",
    "#oct18 = pd.read_csv('oct18.csv', sep=';', encoding='windows-1250', index_col=False, header=0)\n",
    "#nov18 = pd.read_csv('nov18.csv', sep=';', encoding='windows-1250', index_col=False, header=0)\n",
    "#dic18 = pd.read_csv('dic18.csv', sep=';', encoding='windows-1250', index_col=False, header=0)\n",
    "#ene19 = pd.read_csv('ene19.csv', sep=';', encoding='windows-1250', index_col=False, header=0)\n",
    "#feb19 = pd.read_csv('feb19.csv', sep=';', encoding='windows-1250', index_col=False, header=0)\n",
    "#mar19 = pd.read_csv('mar19.csv', sep=';', encoding='windows-1250', index_col=False, header=0)\n",
    "#abr19 = pd.read_csv('abr19.csv', sep=';', encoding='windows-1250', index_col=False, header=0)\n",
    "#may19 = pd.read_csv('may19.csv', sep=';', encoding='windows-1250', index_col=False, header=0)\n",
    "#jun19 = pd.read_csv('jun19.csv', sep=';', encoding='windows-1250', index_col=False, header=0)\n",
    "#jul19 = pd.read_csv('jul19.csv', sep=';', encoding='windows-1250', index_col=False, header=0)\n",
    "#ago19 = pd.read_csv('ago19.csv', sep=';', encoding='windows-1250', index_col=False, header=0)"
   ]
  },
  {
   "cell_type": "markdown",
   "metadata": {},
   "source": [
    "## 2.1 Verificamos el nombre de las variables para todos los csv"
   ]
  },
  {
   "cell_type": "code",
   "execution_count": 29,
   "metadata": {},
   "outputs": [
    {
     "name": "stdout",
     "output_type": "stream",
     "text": [
      "Index(['GRAVEDAD', 'DIRECCION', 'MES', 'ANIO', 'HORA', 'IMPORTE_MULTA',\n",
      "       'DESCUENTO', 'PUNTOS', 'DENUNCIANTE', 'DESCRIPCION_INFRACCION',\n",
      "       'VELOCIDAD_LIMITE', 'VELOCIDAD_CIRCULACION', 'COORDENADA_X',\n",
      "       'COORDENADA_Y', 'hora_entera'],\n",
      "      dtype='object')\n",
      "Index(['GRAVEDAD', 'DIRECCION', 'MES', 'ANIO', 'HORA', 'IMPORTE_MULTA',\n",
      "       'DESCUENTO', 'PUNTOS', 'DENUNCIANTE', 'DESCRIPCION_INFRACCION',\n",
      "       'VELOCIDAD_LIMITE', 'VELOCIDAD_CIRCULACION', 'COORDENADA_X',\n",
      "       'COORDENADA_Y'],\n",
      "      dtype='object')\n",
      "Index(['GRAVEDAD', 'DIRECCION', 'MES', 'ANIO', 'HORA', 'IMPORTE_MULTA',\n",
      "       'DESCUENTO', 'PUNTOS', 'DENUNCIANTE', 'DESCRIPCION_INFRACCION',\n",
      "       'VELOCIDAD_LIMITE', 'VELOCIDAD_CIRCULACION', 'COORDENADA_X',\n",
      "       'COORDENADA_Y'],\n",
      "      dtype='object')\n",
      "Index(['GRAVEDAD', 'DIRECCION', 'MES', 'ANIO', 'HORA', 'IMPORTE_MULTA',\n",
      "       'DESCUENTO', 'PUNTOS', 'DENUNCIANTE', 'DESCRIPCION_INFRACCION',\n",
      "       'VELOCIDAD_LIMITE', 'VELOCIDAD_CIRCULACION', 'COORDENADA_X',\n",
      "       'COORDENADA_Y'],\n",
      "      dtype='object')\n",
      "Index(['GRAVEDAD', 'DIRECCION', 'MES', 'ANIO', 'HORA', 'IMPORTE_MULTA',\n",
      "       'DESCUENTO', 'PUNTOS', 'DENUNCIANTE', 'DESCRIPCION_INFRACCION',\n",
      "       'VELOCIDAD_LIMITE', 'VELOCIDAD_CIRCULACION', 'COORDENADA_X',\n",
      "       'COORDENADA_Y'],\n",
      "      dtype='object')\n",
      "Index(['GRAVEDAD', 'DIRECCION', 'MES', 'ANIO', 'HORA', 'IMPORTE_MULTA',\n",
      "       'DESCUENTO', 'PUNTOS', 'DENUNCIANTE', 'DESCRIPCION_INFRACCION',\n",
      "       'VELOCIDAD_LIMITE', 'VELOCIDAD_CIRCULACION', 'COORDENADA_X',\n",
      "       'COORDENADA_Y'],\n",
      "      dtype='object')\n",
      "Index(['GRAVEDAD', 'DIRECCION', 'MES', 'ANIO', 'HORA', 'IMPORTE_MULTA',\n",
      "       'DESCUENTO', 'PUNTOS', 'DENUNCIANTE', 'DESCRIPCION_INFRACCION',\n",
      "       'VELOCIDAD_LIMITE', 'VELOCIDAD_CIRCULACION', 'COORDENADA_X',\n",
      "       'COORDENADA_Y'],\n",
      "      dtype='object')\n",
      "Index(['GRAVEDAD', 'DIRECCION', 'MES', 'ANIO', 'HORA', 'IMPORTE_MULTA',\n",
      "       'DESCUENTO', 'PUNTOS', 'DENUNCIANTE', 'DESCRIPCION_INFRACCION',\n",
      "       'VELOCIDAD_LIMITE', 'VELOCIDAD_CIRCULACION', 'COORDENADA_X',\n",
      "       'COORDENADA_Y'],\n",
      "      dtype='object')\n",
      "Index(['GRAVEDAD', 'DIRECCION', 'MES', 'ANIO', 'HORA', 'IMPORTE_MULTA',\n",
      "       'DESCUENTO', 'PUNTOS', 'DENUNCIANTE', 'DESCRIPCION_INFRACCION',\n",
      "       'VELOCIDAD_LIMITE', 'VELOCIDAD_CIRCULACION', 'COORDENADA_X',\n",
      "       'COORDENADA_Y'],\n",
      "      dtype='object')\n",
      "Index(['GRAVEDAD', 'DIRECCION', 'MES', 'ANIO', 'HORA', 'IMPORTE_MULTA',\n",
      "       'DESCUENTO', 'PUNTOS', 'DENUNCIANTE', 'DESCRIPCION_INFRACCION',\n",
      "       'VELOCIDAD_LIMITE', 'VELOCIDAD_CIRCULACION', 'COORDENADA_X',\n",
      "       'COORDENADA_Y'],\n",
      "      dtype='object')\n",
      "Index(['GRAVEDAD', 'DIRECCION', 'MES', 'ANIO', 'HORA', 'IMPORTE_MULTA',\n",
      "       'DESCUENTO', 'PUNTOS', 'DENUNCIANTE', 'DESCRIPCION_INFRACCION',\n",
      "       'VELOCIDAD_LIMITE', 'VELOCIDAD_CIRCULACION', 'COORDENADA_X',\n",
      "       'COORDENADA_Y'],\n",
      "      dtype='object')\n",
      "Index(['GRAVEDAD', 'DIRECCION', 'MES', 'ANIO', 'HORA', 'IMPORTE_MULTA',\n",
      "       'DESCUENTO', 'PUNTOS', 'DENUNCIANTE', 'DESCRIPCION_INFRACCION',\n",
      "       'VELOCIDAD_LIMITE', 'VELOCIDAD_CIRCULACION', 'COORDENADA_X',\n",
      "       'COORDENADA_Y'],\n",
      "      dtype='object')\n"
     ]
    }
   ],
   "source": [
    "column_names0918=set18.columns\n",
    "print(column_names0918)\n",
    "column_names1018=oct18.columns\n",
    "print(column_names1018)\n",
    "column_names1118=nov18.columns\n",
    "print(column_names1118)\n",
    "column_names1218=dic18.columns\n",
    "print(column_names1218)\n",
    "column_names0119=ene19.columns\n",
    "print(column_names0119)\n",
    "column_names0219=feb19.columns\n",
    "print(column_names0219)\n",
    "column_names0319=mar19.columns\n",
    "print(column_names0319)\n",
    "column_names0419=abr19.columns\n",
    "print(column_names0419)\n",
    "column_names0519=may19.columns\n",
    "print(column_names0519)\n",
    "column_names0619=jun19.columns\n",
    "print(column_names0619)\n",
    "column_names0719=jul19.columns\n",
    "print(column_names0719)\n",
    "column_names0819=ago19.columns\n",
    "print(column_names0819)"
   ]
  },
  {
   "cell_type": "markdown",
   "metadata": {},
   "source": [
    "# 3. Cambio de nombre a las variables (columnas)"
   ]
  },
  {
   "cell_type": "markdown",
   "metadata": {},
   "source": [
    "## 3.2. Concatenamos los csv para trabajar en un solo archivo"
   ]
  },
  {
   "cell_type": "code",
   "execution_count": null,
   "metadata": {},
   "outputs": [],
   "source": [
    "multas = pd.concat ([set18, oct18, nov18, dic18, ene19, feb19, mar19, abr19, may19, jun19, jul19, ago19])\n",
    "multas"
   ]
  },
  {
   "cell_type": "markdown",
   "metadata": {},
   "source": [
    "## 3.4. Obtenemos el nombre de las variables"
   ]
  },
  {
   "cell_type": "code",
   "execution_count": null,
   "metadata": {},
   "outputs": [],
   "source": [
    "column_names = multas.columns\n",
    "print(column_names)"
   ]
  },
  {
   "cell_type": "markdown",
   "metadata": {},
   "source": [
    "# 4. Comprobamos que las variables no se repitan"
   ]
  },
  {
   "cell_type": "code",
   "execution_count": null,
   "metadata": {
    "scrolled": true
   },
   "outputs": [],
   "source": [
    "for i in column_names:\n",
    "  print('{} is unique: {}'.format(i, TotalMultas[i].is_unique))\n",
    "print(column_names)"
   ]
  },
  {
   "cell_type": "markdown",
   "metadata": {},
   "source": [
    "# 5. Verificamos si existen valores nulos por variable"
   ]
  },
  {
   "cell_type": "code",
   "execution_count": null,
   "metadata": {},
   "outputs": [],
   "source": [
    "print (multas['Gravedad'].isnull())\n",
    "print (multas['Dirección'].isnull())\n",
    "print (multas['Mes'].isnull())\n",
    "print (multas['Año'].isnull())\n",
    "print (multas['Hora'].isnull())\n",
    "print (multas['Importe multa'].isnull())\n",
    "print (multas['Descuento'].isnull())\n",
    "print (multas['Puntos'].isnull())\n",
    "print (multas['Denunciante'].isnull())\n",
    "print (multas['Descripción infracción'].isnull())\n",
    "print (multas['Velocidad límite'].isnull())\n",
    "print (multas['Velocidad circulación'].isnull())\n",
    "print (multas['Coordenada x'].isnull())\n",
    "print (multas['Coordenada y'].isnull())"
   ]
  },
  {
   "cell_type": "markdown",
   "metadata": {},
   "source": [
    "## 5.1 Para comprobar en toda la tabla se hace lo siguiente:"
   ]
  },
  {
   "cell_type": "code",
   "execution_count": null,
   "metadata": {},
   "outputs": [],
   "source": [
    "# Existen valores nulos?\n",
    "print (multas.isnull().values.any())\n",
    "print (multas.isnull().sum())\n",
    "# Se imprime la cantidad si hubiese de valores nulos\n",
    "print (multas.isnull().sum().sum())"
   ]
  },
  {
   "cell_type": "code",
   "execution_count": null,
   "metadata": {},
   "outputs": [],
   "source": [
    "# Escribe el __DataFrame__ a CSV\n",
    "multas.to_csv('multas1819.csv', index=False)"
   ]
  },
  {
   "cell_type": "code",
   "execution_count": null,
   "metadata": {},
   "outputs": [],
   "source": [
    "# Para asegurarse de que todo se vea bien.\n",
    "#multas_2018_2019= pd.read_csv('multasS18A19.csv', keep_default_na=False, na_values=[\"\"])\n",
    "#multas_2018_2019"
   ]
  },
  {
   "cell_type": "code",
   "execution_count": null,
   "metadata": {},
   "outputs": [],
   "source": [
    "multas.columns"
   ]
  },
  {
   "cell_type": "code",
   "execution_count": null,
   "metadata": {},
   "outputs": [],
   "source": []
  },
  {
   "cell_type": "code",
   "execution_count": null,
   "metadata": {},
   "outputs": [],
   "source": [
    "for n in range(0,multas_2018_2019.shape[0]):\n",
    "    TotalMultas.set_value(n,'hora_entera',TotalMultas.loc[n,'Hora'].strftime('%H')+':00');"
   ]
  },
  {
   "cell_type": "code",
   "execution_count": null,
   "metadata": {},
   "outputs": [],
   "source": []
  }
 ],
 "metadata": {
  "kernelspec": {
   "display_name": "Python 3",
   "language": "python",
   "name": "python3"
  },
  "language_info": {
   "codemirror_mode": {
    "name": "ipython",
    "version": 3
   },
   "file_extension": ".py",
   "mimetype": "text/x-python",
   "name": "python",
   "nbconvert_exporter": "python",
   "pygments_lexer": "ipython3",
   "version": "3.7.3"
  }
 },
 "nbformat": 4,
 "nbformat_minor": 2
}
